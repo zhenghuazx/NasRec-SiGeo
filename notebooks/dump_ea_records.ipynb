{
 "cells": [
  {
   "attachments": {},
   "cell_type": "markdown",
   "id": "19333c91",
   "metadata": {},
   "source": [
    "Copyright (c) Meta Platforms, Inc. and affiliates.\n",
    "\n",
    "Licensed under the Apache License, Version 2.0 (the \"License\");\n",
    "you may not use this file except in compliance with the License.\n",
    "You may obtain a copy of the License at\n",
    "\n",
    "    http://www.apache.org/licenses/LICENSE-2.0\n",
    "\n",
    "Unless required by applicable law or agreed to in writing, software\n",
    "distributed under the License is distributed on an \"AS IS\" BASIS,\n",
    "WITHOUT WARRANTIES OR CONDITIONS OF ANY KIND, either express or implied.\n",
    "See the License for the specific language governing permissions and\n",
    "limitations under the License."
   ]
  },
  {
   "cell_type": "code",
   "execution_count": 1,
   "id": "5f4e08df",
   "metadata": {},
   "outputs": [],
   "source": [
    "import os\n",
    "import sys\n",
    "sys.path.append(\"..\")\n",
    "import pickle\n",
    "import copy\n",
    "import numpy as np\n",
    "from nasrec.utils.io_utils import (\n",
    "    load_pickle_data,\n",
    "    dump_json\n",
    ")"
   ]
  },
  {
   "cell_type": "code",
   "execution_count": 2,
   "id": "91e96b0c",
   "metadata": {},
   "outputs": [],
   "source": [
    "ea_results_file = \"../www-test/criteo_1shot/criteo-supernet-default-binomial-0.5-xlarge-ea-240gen-128pop-64sample-8childs-default-ft_lr0.04/results.pickle\"\n",
    "ea_results = load_pickle_data(ea_results_file)"
   ]
  },
  {
   "cell_type": "code",
   "execution_count": 3,
   "id": "0cde746d",
   "metadata": {},
   "outputs": [
    {
     "name": "stdout",
     "output_type": "stream",
     "text": [
      "/home/tz86/github/wsnas4rec/notebooks\n",
      "{'choice': {'micro': [{'active_nodes': [2, 4], 'dense_in_dims': 768, 'sparse_in_dims': 48, 'dense_sparse_interact': 1, 'deep_fm': 1}, {'active_nodes': [1, 5], 'dense_in_dims': 1024, 'sparse_in_dims': 64, 'dense_sparse_interact': 1, 'deep_fm': 1}, {'active_nodes': [2, 5], 'dense_in_dims': 512, 'sparse_in_dims': 64, 'dense_sparse_interact': 0, 'deep_fm': 0}, {'active_nodes': [2, 5], 'dense_in_dims': 16, 'sparse_in_dims': 16, 'dense_sparse_interact': 0, 'deep_fm': 1}, {'active_nodes': [0, 5], 'dense_in_dims': 32, 'sparse_in_dims': 16, 'dense_sparse_interact': 0, 'deep_fm': 1}, {'active_nodes': [2, 4], 'dense_in_dims': 128, 'sparse_in_dims': 32, 'dense_sparse_interact': 1, 'deep_fm': 1}, {'active_nodes': [0, 4], 'dense_in_dims': 1024, 'sparse_in_dims': 64, 'dense_sparse_interact': 0, 'deep_fm': 1}], 'macro': [{'dense_idx': [0], 'sparse_idx': [0], 'dense_left_idx': [0], 'dense_right_idx': [0]}, {'dense_idx': [1], 'sparse_idx': [1, 0], 'dense_left_idx': [1], 'dense_right_idx': [1]}, {'dense_idx': [1, 2], 'sparse_idx': [0, 2, 1], 'dense_left_idx': [2], 'dense_right_idx': [0]}, {'dense_idx': [0], 'sparse_idx': [0, 1], 'dense_left_idx': [1], 'dense_right_idx': [0]}, {'dense_idx': [1, 3, 2, 0], 'sparse_idx': [4, 0, 3], 'dense_left_idx': [2], 'dense_right_idx': [4]}, {'dense_idx': [4], 'sparse_idx': [4, 5], 'dense_left_idx': [2], 'dense_right_idx': [5]}, {'dense_idx': [0, 3], 'sparse_idx': [1, 4, 3, 2], 'dense_left_idx': [6], 'dense_right_idx': [6]}]}, 'test_acc': [0.7901644110679626], 'test_auroc': [0.7997337855825597], 'test_loss': [0.4512387216091156], 'hash_token': '1000000100000010000001000000010000011000000100000010000001100001110000001000010000001000000110000001000001000000111100010011000010000000010000001000000110001000000000101001000011110000000010000001001010620101010001730101001001531010001001001001100001101001001010310101100010731001'}\n"
     ]
    }
   ],
   "source": [
    "!pwd\n",
    "print(ea_results[-3])"
   ]
  },
  {
   "cell_type": "code",
   "execution_count": 4,
   "id": "3df08e94",
   "metadata": {},
   "outputs": [],
   "source": [
    "def _convert_to_int32_(array):\n",
    "    return np.asarray(array).astype(np.int32).tolist()\n",
    "\n",
    "def _convert_to_float32_(array):\n",
    "    return np.asarray(array).astype(np.float32).tolist()\n",
    "\n",
    "def dump_network_config_to_json(item, json_name, \n",
    "                                num_blocks: int = 7, \n",
    "                                use_layernorm: int = 1,\n",
    "                                config: str = \"xlarge\"):\n",
    "    new_item = copy.deepcopy(item['choice'])\n",
    "    for idx in range(len(new_item['micro'])):\n",
    "        new_item['micro'][idx]['active_nodes'] = _convert_to_int32_(\n",
    "            new_item['micro'][idx]['active_nodes'])\n",
    "        new_item['micro'][idx]['dense_in_dims'] = _convert_to_int32_(\n",
    "            new_item['micro'][idx]['dense_in_dims'])\n",
    "        new_item['micro'][idx]['sparse_in_dims'] = _convert_to_int32_(\n",
    "            new_item['micro'][idx]['sparse_in_dims'])\n",
    "        new_item['micro'][idx]['dense_sparse_interact'] = _convert_to_int32_(new_item['micro'][idx]['dense_sparse_interact'])\n",
    "        new_item['micro'][idx]['deep_fm'] = _convert_to_int32_(new_item['micro'][idx]['deep_fm'])\n",
    "    new_item['num_blocks'] = num_blocks\n",
    "    new_item['use_layernorm'] = use_layernorm\n",
    "    new_item['config'] = config\n",
    "    new_item['test_loss'] = float(item['test_loss'][0])\n",
    "    dump_json(json_name, new_item)\n",
    "    \n",
    "def sort_ea_results_with_test_loss(ea_results):\n",
    "    test_losses = [item['test_loss'][0] for item in ea_results]\n",
    "    sorted_args = np.argsort(test_losses)\n",
    "    return np.asarray(ea_results)[sorted_args].tolist()"
   ]
  },
  {
   "cell_type": "code",
   "execution_count": null,
   "id": "f2fe05b2",
   "metadata": {},
   "outputs": [],
   "source": [
    "export_dir = \"../ea-criteo-kaggle-autoctr-best-1shot-1zico-1fr\"\n",
    "export_dir = \"../ea-kdd-kaggle-autoctr-best-1shot-1zico-1fr-0data\"\n",
    "# export_dir = \"/root/github/wsnas4rec/ea-autoctr-best\"\n",
    "os.makedirs(export_dir, exist_ok=True)\n",
    "\n",
    "sorted_ea_results = sort_ea_results_with_test_loss(ea_results)\n",
    "cnt = 0\n",
    "test_losses = []\n",
    "last_test_loss = 0.\n",
    "for i in range(len(sorted_ea_results)):\n",
    "    cur_test_loss = sorted_ea_results[i]['test_loss'][0]\n",
    "    if np.abs(cur_test_loss - last_test_loss) > 1e-6:\n",
    "        last_test_loss = cur_test_loss\n",
    "        json_path = os.path.join(export_dir, \"best_config_{}.json\".format(cnt))\n",
    "        dump_network_config_to_json(sorted_ea_results[i], json_path, config=\"autoctr\")\n",
    "        cnt += 1\n",
    "    else:\n",
    "        pass\n",
    "    if cnt == 50:\n",
    "        break"
   ]
  },
  {
   "cell_type": "code",
   "execution_count": 5,
   "id": "b8bb20b3",
   "metadata": {},
   "outputs": [],
   "source": [
    "autoctr_config = {\"micro\": [\n",
    "    {\"active_nodes\": [4, 6], \"dense_in_dims\": 16, \"sparse_in_dims\": 32, \"dense_sparse_interact\": 0, \"deep_fm\": 0},     # Useless. Produces zeros-dense. #S1, N0\n",
    "    {\"active_nodes\": [1, 6], \"dense_in_dims\": 378, \"sparse_in_dims\": 16, \"dense_sparse_interact\": 0, \"deep_fm\": 0},    # Output dense.  S2, N1\n",
    "    {\"active_nodes\": [4, 7], \"dense_in_dims\": 16, \"sparse_in_dims\": 32, \"dense_sparse_interact\": 0, \"deep_fm\": 0},    # Output dense.  S3, N2 (512=32 * 16 (emb))\n",
    "    {\"active_nodes\": [1, 6], \"dense_in_dims\": 378, \"sparse_in_dims\": 16, \"dense_sparse_interact\": 0, \"deep_fm\": 0},    # Output dense.  S4, N3\n",
    "    {\"active_nodes\": [1, 6], \"dense_in_dims\": 378, \"sparse_in_dims\": 16, \"dense_sparse_interact\": 0, \"deep_fm\": 0},    # Output dense  S5, N4\n",
    "    {\"active_nodes\": [0, 6], \"dense_in_dims\": 128, \"sparse_in_dims\": 16, \"dense_sparse_interact\": 0, \"deep_fm\": 0},    # Output dense.  S6, N5\n",
    "    {\"active_nodes\": [0, 6], \"dense_in_dims\": 1024, \"sparse_in_dims\": 16, \"dense_sparse_interact\": 0, \"deep_fm\": 0},   # Output dense  S7, N6\n",
    "    {\"active_nodes\": [0, 7], \"dense_in_dims\": 256, \"sparse_in_dims\": 256, \"dense_sparse_interact\": 0, \"deep_fm\": 0}],  # Output dense. S8, N7\n",
    " \"macro\": [\n",
    "   {\"dense_idx\": [0], \"sparse_idx\": [0], \"dense_left_idx\": [0], \"dense_right_idx\": [0]},\n",
    "   {\"dense_idx\": [1], \"sparse_idx\": [0], \"dense_left_idx\": [0], \"dense_right_idx\": [0]},\n",
    "   {\"dense_idx\": [0], \"sparse_idx\": [0], \"dense_left_idx\": [1], \"dense_right_idx\": [1]},\n",
    "   {\"dense_idx\": [0, 2], \"sparse_idx\": [0], \"dense_left_idx\": [2], \"dense_right_idx\": [2]},\n",
    "   {\"dense_idx\": [1], \"sparse_idx\": [0, 3], \"dense_left_idx\": [3], \"dense_right_idx\": [3]},\n",
    "   {\"dense_idx\": [4, 5], \"sparse_idx\": [0], \"dense_left_idx\": [4], \"dense_right_idx\": [4]},\n",
    "   {\"dense_idx\": [0, 2, 4, 5, 6], \"sparse_idx\": [0], \"dense_left_idx\": [5], \"dense_right_idx\": [5]},\n",
    "   {\"dense_idx\": [0, 2, 4, 6, 7], \"sparse_idx\": [0], \"dense_left_idx\": [6], \"dense_right_idx\": [6]}],\n",
    "   \"num_blocks\": 8, \"config\": \"xlarge-zeros\", \"use_layernorm\": 1}\n",
    "\n",
    "dump_json(\"../nasrec/configs/autoctr_config.json\", autoctr_config)"
   ]
  },
  {
   "cell_type": "code",
   "execution_count": null,
   "id": "8a520e37",
   "metadata": {},
   "outputs": [],
   "source": [
    "!pwd"
   ]
  }
 ],
 "metadata": {
  "kernelspec": {
   "display_name": "Python 3.9.13 ('wsnas4rec')",
   "language": "python",
   "name": "python3"
  },
  "language_info": {
   "codemirror_mode": {
    "name": "ipython",
    "version": 3
   },
   "file_extension": ".py",
   "mimetype": "text/x-python",
   "name": "python",
   "nbconvert_exporter": "python",
   "pygments_lexer": "ipython3",
   "version": "3.10.9"
  },
  "vscode": {
   "interpreter": {
    "hash": "cd896e44ad5f97676076d50f0792951c97fb588c9dd26936428fec34791e1d16"
   }
  }
 },
 "nbformat": 4,
 "nbformat_minor": 5
}
